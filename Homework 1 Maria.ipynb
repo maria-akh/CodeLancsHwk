{
 "cells": [
  {
   "cell_type": "markdown",
   "metadata": {},
   "source": [
    "To complete the homework simply fill in your answers in this jupyter notebook!\n",
    "\n",
    "Remember that there are many ways in which markup cells can be used and you can add useful things such as references and images to better explain your answers.\n",
    "\n",
    "It is perfectly fine if you copy your answer from somewhere else in the internet as long as you understand the code you copied and cite the source. However, refrain from asking help for your colleagues (unless you're really struggling) as the ability to find information online is crucial for any tech role you might want to have in the future.\n",
    "\n",
    "<h1> Question 1: Multiple prints</h1>\n",
    "Create 3 different variables of different types and print their values using a single print statement."
   ]
  },
  {
   "cell_type": "code",
   "execution_count": 1,
   "metadata": {},
   "outputs": [
    {
     "name": "stdout",
     "output_type": "stream",
     "text": [
      "These are some facts about my cat\n",
      "Millie 3 brown tabby\n"
     ]
    }
   ],
   "source": [
    "var = \"These are some facts about my cat\"\n",
    "name = \"Millie\"\n",
    "age = 3\n",
    "coat = \"brown tabby\"\n",
    "print(var)\n",
    "print(name, age, coat)\n",
    "\n",
    "#This is 4 variables and 2 prints but I just wanted to explain why I picked those options!"
   ]
  },
  {
   "cell_type": "markdown",
   "metadata": {},
   "source": [
    "<h1> Question 2: Data structures</h1>\n",
    "Create two variables containing each a nested list and a nested dictionary and demonstrate how to access specific items of it."
   ]
  },
  {
   "cell_type": "code",
   "execution_count": 2,
   "metadata": {},
   "outputs": [
    {
     "name": "stdout",
     "output_type": "stream",
     "text": [
      "motorbike\n",
      "golf\n",
      "{'cat1': {'name': 'Millie', 'colour': 'Brown'}, 'cat2': {'name': 'Charlie', 'colour': 'White'}, 'cat3': {'name': 'Billy', 'colour': 'Black'}}\n",
      "Charlie\n"
     ]
    }
   ],
   "source": [
    "nested_list = ['motorbike', 'lorry', ['car', 'BMW', 'audi', 'mercedes', ['volkswagen', 'golf', 'polo', 'tiguan']], 'ship']  \n",
    "print(nested_list[0])\n",
    "print(nested_list[2][4][1])\n",
    "\n",
    "# To access a specific item:\n",
    "# in every [] - the items are numbered 0, 1, 2 etc depending on how many there are\n",
    "# but if we want an item from the third [] - we need to imagine we can't access it without accessing [] before it\n",
    "# EG: for golf -- we need car which is [2] then VW which is [4] in it's respective [] and then golf which is [1]\n",
    "# EG: for ship - act as though the middle [] are not there so count 0 - motorbike, 1 - lorry, 2 - car, 3 - ship\n",
    "\n",
    "Dict = { 'cat1': {'name': 'Millie', 'colour': 'Brown'}, 'cat2': {'name': 'Charlie', 'colour': 'White'}, 'cat3': {'name': 'Billy', 'colour': 'Black'}}\n",
    "print(Dict) #to see the full dictionary\n",
    "print(Dict['cat2']['name']) #To find specific aspects - use print(Dict['cat(x)']['name' OR 'colour']) - where x is the number of the cat"
   ]
  },
  {
   "cell_type": "markdown",
   "metadata": {},
   "source": [
    "Now consider the following list,"
   ]
  },
  {
   "cell_type": "code",
   "execution_count": 3,
   "metadata": {},
   "outputs": [
    {
     "name": "stdout",
     "output_type": "stream",
     "text": [
      "[1, 2, 3, 4, 5]\n",
      "[2, 4, 6, 8]\n",
      "[3, 6, 9]\n",
      "[1, 2, 3, 4, 5, 6, 7, 8, 9] is a list of numbers.\n"
     ]
    }
   ],
   "source": [
    "a_list = [1,2,3,4,5,6,7,8,9]\n",
    "\n",
    "#1\n",
    "sliced_list = a_list[0:5]\n",
    "print(sliced_list)\n",
    "    \n",
    "#2\n",
    "even = [x for x in a_list if x % 2 ==0]\n",
    "print(even)\n",
    "\n",
    "#3\n",
    "multiples_of_3 = [i for i in a_list if i % 3 ==0]\n",
    "print(multiples_of_3)\n",
    "\n",
    "#Bonus\n",
    "print(f\"{a_list} is a list of numbers.\")\n",
    "\n",
    "#Hehehe"
   ]
  },
  {
   "cell_type": "markdown",
   "metadata": {},
   "source": [
    "1 - slice this list (by index) to contain only the numbers smaller than 5; <br>\n",
    "2 - make a loop to create a new list containing only the EVEN numbers of this list (bonus point if you use a list comprehension!!);<br>\n",
    "3 - make a loop to create a new list containing only the numbers that are multiples of 3;<br>\n",
    "Bonus - make a loop that will print every item on the list inside a sentence using a f-string."
   ]
  },
  {
   "cell_type": "markdown",
   "metadata": {},
   "source": [
    "<h1>Question 3: Creating functions</h1>\n",
    "\n",
    "Create a function that takes a list of numbers and convert them into strings. (bonus point if you use a list comprehension!!)"
   ]
  },
  {
   "cell_type": "code",
   "execution_count": 4,
   "metadata": {},
   "outputs": [
    {
     "name": "stdout",
     "output_type": "stream",
     "text": [
      "['20', '40', '60', '80', '100']\n"
     ]
    }
   ],
   "source": [
    "list_int = [20,40,60,80,100]\n",
    "list_string = map(str, list_int)\n",
    "print(list(list_string))\n",
    "\n",
    "#Hahah I typed this in and I was really confused by the next steps until I realised they were step-by-step to teach how to do the task!\n",
    "#I have tried to follow the steps but I am really confused :/ I learnt my method from geeksforgeeks.org and hope it is sufficient!"
   ]
  },
  {
   "cell_type": "code",
   "execution_count": 9,
   "metadata": {},
   "outputs": [
    {
     "data": {
      "text/plain": [
       "'1'"
      ]
     },
     "execution_count": 9,
     "metadata": {},
     "output_type": "execute_result"
    }
   ],
   "source": [
    "variable = 1\n",
    "str(variable)"
   ]
  },
  {
   "cell_type": "code",
   "execution_count": 11,
   "metadata": {},
   "outputs": [],
   "source": [
    "yet_another_list = []"
   ]
  },
  {
   "cell_type": "code",
   "execution_count": 12,
   "metadata": {},
   "outputs": [
    {
     "data": {
      "text/plain": [
       "[]"
      ]
     },
     "execution_count": 12,
     "metadata": {},
     "output_type": "execute_result"
    }
   ],
   "source": [
    "yet_another_list = [50, 77, 92, 99, 104, 107]"
   ]
  },
  {
   "cell_type": "code",
   "execution_count": 13,
   "metadata": {},
   "outputs": [],
   "source": [
    "yet_another_list.append('cat')"
   ]
  },
  {
   "cell_type": "code",
   "execution_count": 14,
   "metadata": {},
   "outputs": [
    {
     "data": {
      "text/plain": [
       "['cat']"
      ]
     },
     "execution_count": 14,
     "metadata": {},
     "output_type": "execute_result"
    }
   ],
   "source": [
    "yet_another_list.append['cat']\n",
    "\n",
    "#Wasn't sure if I was meant to put cat here or numbers - see comment at the top"
   ]
  },
  {
   "cell_type": "code",
   "execution_count": null,
   "metadata": {},
   "outputs": [],
   "source": [
    "#Unsure what goes here"
   ]
  },
  {
   "cell_type": "code",
   "execution_count": 15,
   "metadata": {},
   "outputs": [],
   "source": [
    "def numberToString(the_list):\n",
    "    another_list = []\n",
    "    \n",
    "    for item in the_list:    \n",
    "        converted_item = str(item)\n",
    "        another_list.append(converted_item)\n",
    "        \n",
    "    return(another_list)"
   ]
  },
  {
   "cell_type": "code",
   "execution_count": null,
   "metadata": {},
   "outputs": [],
   "source": [
    "#Please see the top box of this area"
   ]
  },
  {
   "cell_type": "code",
   "execution_count": 16,
   "metadata": {},
   "outputs": [
    {
     "data": {
      "text/plain": [
       "['1', '2', '3', '4', '5']"
      ]
     },
     "execution_count": 16,
     "metadata": {},
     "output_type": "execute_result"
    }
   ],
   "source": [
    "my_list = [1,2,3,4,5]\n",
    "\n",
    "numberToString(the_list=my_list)"
   ]
  },
  {
   "cell_type": "code",
   "execution_count": 20,
   "metadata": {},
   "outputs": [
    {
     "data": {
      "text/plain": [
       "['1', '2', '3', '4', '5']"
      ]
     },
     "execution_count": 20,
     "metadata": {},
     "output_type": "execute_result"
    }
   ],
   "source": [
    "new_list = [str(number) for number in my_list]\n",
    "new_list"
   ]
  },
  {
   "cell_type": "code",
   "execution_count": 19,
   "metadata": {},
   "outputs": [
    {
     "data": {
      "text/plain": [
       "['0', '1', '2', '3', '4', '5', '6', '7', '8', '9']"
      ]
     },
     "execution_count": 19,
     "metadata": {},
     "output_type": "execute_result"
    }
   ],
   "source": [
    "new_list = [str(number) for number in range(10)]\n",
    "new_list"
   ]
  },
  {
   "cell_type": "markdown",
   "metadata": {},
   "source": [
    "Create a small calculator. The function should pick two numbers and perform one of four mathematical operations with it (sum/subtraction, division, multiplication, exponents). The desired operation should be an option (hint: what IF the user wants to do a sum?)\n",
    "\n",
    "Bonus: Make a function that can pick ANY number of numbers."
   ]
  },
  {
   "cell_type": "code",
   "execution_count": 5,
   "metadata": {},
   "outputs": [
    {
     "name": "stdout",
     "output_type": "stream",
     "text": [
      "Please select operation\n",
      "1. Add\n",
      "2. Subtract\n",
      "3. Multiply\n",
      "4. Divide\n",
      "\n"
     ]
    },
    {
     "name": "stdin",
     "output_type": "stream",
     "text": [
      "Select operation from 1, 2, 3, 4 : 3\n",
      "Enter first number:  10\n",
      "Enter second number:  2\n"
     ]
    },
    {
     "name": "stdout",
     "output_type": "stream",
     "text": [
      "10 * 2 = 20\n"
     ]
    }
   ],
   "source": [
    "\n",
    "def add(num1, num2):\n",
    "   return num1 + num2\n",
    " \n",
    "def subtract(num1, num2):\n",
    "   return num1 - num2\n",
    "\n",
    "def multiply(num1, num2):\n",
    "   return num1 * num2\n",
    "\n",
    "def divide(num1, num2):\n",
    "   return num1 / num2\n",
    " \n",
    "print(\"Please select operation\\n\" \\\n",
    "   \"1. Add\\n\" \\\n",
    "   \"2. Subtract\\n\" \\\n",
    "   \"3. Multiply\\n\" \\\n",
    "   \"4. Divide\\n\")\n",
    "\n",
    "select = int(input(\"Select operation from 1, 2, 3, 4 :\"))\n",
    " \n",
    "number_1 = int(input(\"Enter first number: \"))\n",
    "number_2 = int(input(\"Enter second number: \"))\n",
    " \n",
    "if select == 1:\n",
    "   print(number_1, \"+\", number_2, \"=\",\n",
    "   add(number_1, number_2))\n",
    "elif select == 2:\n",
    "   print(number_1, \"-\", number_2, \"=\",\n",
    "   subtract(number_1, number_2))\n",
    "elif select == 3:\n",
    "   print(number_1, \"*\", number_2, \"=\",\n",
    "   multiply(number_1, number_2))\n",
    "elif select == 4:\n",
    "   print(number_1, \"/\", number_2, \"=\",\n",
    "   divide(number_1, number_2))\n",
    "else:\n",
    "   print(\"Invalid input\")\n",
    "\n",
    "#This was copied from https://www.geeksforgeeks.org/make-simple-calculator-using-python/ \n",
    "#I have tested and understand how it was made. I used snippets from this to inspire other answers!"
   ]
  },
  {
   "cell_type": "markdown",
   "metadata": {},
   "source": [
    "Create a function that check if a number is within a list of numbers."
   ]
  },
  {
   "cell_type": "code",
   "execution_count": 6,
   "metadata": {},
   "outputs": [
    {
     "name": "stdin",
     "output_type": "stream",
     "text": [
      "Please enter a number to check if it is present:  12\n"
     ]
    },
    {
     "name": "stdout",
     "output_type": "stream",
     "text": [
      "Present\n"
     ]
    }
   ],
   "source": [
    "my_numbers = [3,7,60,12,9,369,27,99,16]\n",
    "number = int(input(\"Please enter a number to check if it is present: \"))\n",
    "if number in my_numbers:\n",
    "   print(\"Present\")\n",
    "else:\n",
    "   print(\"Not present\")\n",
    "\n",
    "#Just leaving this comment for myself to know I have completed this one"
   ]
  },
  {
   "cell_type": "markdown",
   "metadata": {},
   "source": [
    "Bonus: similar to the item above, create a function that checks if a string contains a given substring, e.g. 'I have a cat' contains the string sequence 'cat' or 'ave'."
   ]
  },
  {
   "cell_type": "code",
   "execution_count": null,
   "metadata": {},
   "outputs": [],
   "source": [
    "#I do have a cat but unfortunately don't know how to check if a string contains certain letters :c"
   ]
  },
  {
   "cell_type": "markdown",
   "metadata": {},
   "source": [
    "Bonus: create a function that given the initial speed of a projectile that is thrown at 90 degrees will calculate how much time the projectile will take to get back to the initial altitude. (yes you're expected to disregard air resistence)"
   ]
  },
  {
   "cell_type": "code",
   "execution_count": null,
   "metadata": {},
   "outputs": [],
   "source": [
    "#I don't know the equation for this - I tried to Google it and I am absolutely baffled"
   ]
  },
  {
   "cell_type": "markdown",
   "metadata": {},
   "source": [
    "<h1>solve these questions...or ELSE</h1>\n",
    "\n",
    "Why the nested if statement below doesn't only produce the first print? Can you modify it so it produces the desired output?"
   ]
  },
  {
   "cell_type": "code",
   "execution_count": 7,
   "metadata": {},
   "outputs": [
    {
     "name": "stdout",
     "output_type": "stream",
     "text": [
      "Yeeeey!\n"
     ]
    }
   ],
   "source": [
    "food = 'Pizza'\n",
    "drinks = 'Beer'\n",
    "\n",
    "if food == 'Pizza' and drinks == 'Beer':\n",
    "    print('Yeeeey!')\n",
    "elif food == 'Pizza' and drinks != 'Beer':\n",
    "    print('Yey.')\n",
    "elif food != 'Pizza' and drinks == 'Beer':\n",
    "    print('Yey!')\n",
    "else:\n",
    "    print('.....???')\n",
    "\n",
    "#elif is used to say if not the one above then this so it stops considering the one above as well as others - changed all to elif after if   "
   ]
  },
  {
   "cell_type": "markdown",
   "metadata": {},
   "source": [
    "<h1> Debugging </h1>\n",
    "None of the blocks of code below work. Your task is to make them work (if possible!) and add markup cells (or comments) explaining why they don't work."
   ]
  },
  {
   "cell_type": "markdown",
   "metadata": {},
   "source": [
    "print(\"Is this working?\")"
   ]
  },
  {
   "cell_type": "code",
   "execution_count": 1,
   "metadata": {},
   "outputs": [],
   "source": [
    "#print(\"does this work?\")\n",
    "\n",
    "#I am assuming this is meant to be a comment but if it needed correcting - would need to remove hash :)"
   ]
  },
  {
   "cell_type": "code",
   "execution_count": 8,
   "metadata": {},
   "outputs": [
    {
     "name": "stdout",
     "output_type": "stream",
     "text": [
      "about now?\n"
     ]
    }
   ],
   "source": [
    "print(\"about now?\")\n",
    "\n",
    "#Both speech marks were different - changed second to \"\""
   ]
  },
  {
   "cell_type": "code",
   "execution_count": 9,
   "metadata": {},
   "outputs": [
    {
     "name": "stdout",
     "output_type": "stream",
     "text": [
      "Today on a scale from 1 to 10 I am feeling... 10\n"
     ]
    }
   ],
   "source": [
    "text_variable = \"Today on a scale from 1 to 10 I am feeling...\"\n",
    "my_mood = 10\n",
    "print(text_variable, my_mood)\n",
    "\n",
    "#Added a comma between text variable and mood"
   ]
  },
  {
   "cell_type": "code",
   "execution_count": 10,
   "metadata": {},
   "outputs": [
    {
     "name": "stdout",
     "output_type": "stream",
     "text": [
      "Today on a scale from 1 to 10 I am feeling...10\n"
     ]
    }
   ],
   "source": [
    "text_variable = \"Today on a scale from 1 to 10 I am feeling...\"\n",
    "my_mood = 10\n",
    "answer = str(text_variable) + str(my_mood)  \n",
    "print(answer)\n",
    "\n",
    "#As 10 is an integer, it is not automatically classed as a string. Needed to explicitly make it a string."
   ]
  },
  {
   "cell_type": "code",
   "execution_count": 11,
   "metadata": {},
   "outputs": [],
   "source": [
    "a_dictionary = {'item1': 'Value 1',\n",
    "                'item2': 'value 2',}\n",
    "\n",
    "#item needs to be in ' '"
   ]
  },
  {
   "cell_type": "code",
   "execution_count": 12,
   "metadata": {},
   "outputs": [
    {
     "data": {
      "text/plain": [
       "True"
      ]
     },
     "execution_count": 12,
     "metadata": {},
     "output_type": "execute_result"
    }
   ],
   "source": [
    "1 == 1 # Should return True\n",
    "\n",
    "#Variable names need to be names not values. If checking for true or false, should be =="
   ]
  },
  {
   "cell_type": "code",
   "execution_count": 13,
   "metadata": {},
   "outputs": [
    {
     "name": "stdout",
     "output_type": "stream",
     "text": [
      "Clap your hands\n"
     ]
    }
   ],
   "source": [
    "# Why isn't the outcome 'Clap your hands?'\n",
    "mood = 'happy'\n",
    "if mood == 'happy':\n",
    "   print('Clap your hands')\n",
    "else:\n",
    "   print('...do I look like I have this one figured out?')\n",
    "\n",
    "#Python is case sensitive. Changed the Happy to happy"
   ]
  },
  {
   "cell_type": "code",
   "execution_count": 14,
   "metadata": {},
   "outputs": [
    {
     "name": "stdout",
     "output_type": "stream",
     "text": [
      "a word another word\n"
     ]
    }
   ],
   "source": [
    "def printerfunction(x,y):\n",
    "   print(x,y)\n",
    "\n",
    "printerfunction(\"a word\", \"another word\")\n",
    "\n",
    "#Indented the print"
   ]
  },
  {
   "cell_type": "code",
   "execution_count": 15,
   "metadata": {},
   "outputs": [
    {
     "name": "stdout",
     "output_type": "stream",
     "text": [
      "Clap your hands\n"
     ]
    }
   ],
   "source": [
    "# bonus/annoying round, why is this crashing?\n",
    "mood = 'happy'\n",
    "if mood == 'happy':\n",
    "   print('Clap your hands')\n",
    "else:\n",
    "   print('...do I look like I have this one figured out?')\n",
    "\n",
    "#Isn't this the same as the one above??? -- Noticed the second print is indented twice, changed to match and changed case for Happy"
   ]
  },
  {
   "cell_type": "code",
   "execution_count": null,
   "metadata": {},
   "outputs": [],
   "source": []
  }
 ],
 "metadata": {
  "kernelspec": {
   "display_name": "Python 3 (ipykernel)",
   "language": "python",
   "name": "python3"
  },
  "language_info": {
   "codemirror_mode": {
    "name": "ipython",
    "version": 3
   },
   "file_extension": ".py",
   "mimetype": "text/x-python",
   "name": "python",
   "nbconvert_exporter": "python",
   "pygments_lexer": "ipython3",
   "version": "3.12.1"
  }
 },
 "nbformat": 4,
 "nbformat_minor": 4
}
